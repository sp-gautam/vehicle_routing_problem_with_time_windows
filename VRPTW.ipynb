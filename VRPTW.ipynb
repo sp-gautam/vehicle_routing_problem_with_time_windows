{
  "cells": [
    {
      "cell_type": "markdown",
      "metadata": {
        "id": "gq_3YUcG_4B5"
      },
      "source": [
        "### Model Definition \n",
        "For the model definition, a new class is created to represent a node, this way,all of the node properties (index, demand, service time and time window) are contained in a single object.\n"
      ]
    },
    {
      "cell_type": "code",
      "execution_count": 3,
      "metadata": {
        "id": "eu1F8NSB_4B6"
      },
      "outputs": [],
      "source": [
        "class Node:\n",
        "    def __init__(self, index, demand, serv_time, time_window):\n",
        "        self.index = index\n",
        "        self.demand = demand\n",
        "        self.serv_time = serv_time\n",
        "        self.time_window = time_window\n",
        "        # self.lat = lat\n",
        "        # self.long = long\n",
        "\n",
        "    def __index__(self):\n",
        "        return self.index\n",
        "\n",
        "    def __hash__(self):\n",
        "        return self.index\n",
        "\n",
        "    def __repr__(self):\n",
        "        return f\"Customer <{self.index}>\""
      ]
    },
    {
      "cell_type": "code",
      "execution_count": 7,
      "metadata": {
        "colab": {
          "base_uri": "https://localhost:8080/"
        },
        "id": "lnBGeHJKB7Q-",
        "outputId": "718bbb22-64bb-46c0-be1d-4a9c14ae519b"
      },
      "outputs": [
        {
          "name": "stderr",
          "output_type": "stream",
          "text": [
            "fatal: destination path 'euro-neurips-vrp-2022-quickstart' already exists and is not an empty directory.\n"
          ]
        },
        {
          "name": "stderr",
          "output_type": "stream",
          "text": [
            "Cloning into 'euro-neurips-vrp-2022-quickstart'...\n",
            "fatal: not a git repository: 'C:/IITK/Courses/Semester 6/IME639A/Project/euro-neurips-vrp-2022-quickstart/.git'\n",
            "fatal: remote did not send all necessary objects\n"
          ]
        }
      ],
      "source": [
        "!git clone https://github.com/ortec/euro-neurips-vrp-2022-quickstart.git"
      ]
    },
    {
      "cell_type": "code",
      "execution_count": 5,
      "metadata": {
        "id": "bVa55is9C0Je"
      },
      "outputs": [],
      "source": [
        "def create_Data_model():\n",
        "    data = {}\n",
        "    with open(r\"/content/euro-neurips-vrp-2022-quickstart/instances/qualification/ORTEC-VRPTW-ASYM-95d153e6-d1-n271-k19.txt\", 'r') as fp:\n",
        "        # lines to read\n",
        "        line_numbers = [9, 476]\n",
        "        # To store lines\n",
        "        lines = []\n",
        "        for i, line in enumerate(fp):\n",
        "            # print(i)\n",
        "            if i >=9 and i <=280:\n",
        "                # print(i)\n",
        "                lines.append(line.strip())\n",
        "            elif i > 280:\n",
        "                # don't read after line 7 to save time\n",
        "                break\n",
        "    finalLines = []\n",
        "    for line in lines:\n",
        "      newline = line.split('\\t')\n",
        "      finalLines.append(newline)\n",
        "    time_matrix = [list( map(int,i) ) for i in finalLines]\n",
        "    data['time_matrix'] = time_matrix\n",
        "\n",
        "\n",
        "    with open(r\"/content/euro-neurips-vrp-2022-quickstart/instances/qualification/ORTEC-VRPTW-ASYM-95d153e6-d1-n271-k19.txt\", 'r') as fp:\n",
        "        # lines to read\n",
        "        # To store lines\n",
        "        lines = []\n",
        "        for i, line in enumerate(fp):\n",
        "            # print(i)\n",
        "            if i >=1104 and i <=1375:\n",
        "                # print(i)\n",
        "                lines.append(line.strip())\n",
        "            elif i > 1375:\n",
        "                # don't read after line 7 to save time\n",
        "                break\n",
        "    finalLines = []\n",
        "    for line in lines:\n",
        "      newline = line.split('\\t')\n",
        "      finalLines.append(newline)\n",
        "    time_windows = [list( map(int,i) ) for i in finalLines]\n",
        "    [i.pop(0) for i in time_windows]\n",
        "    time_windows = [tuple(x) for x in time_windows]\n",
        "    data['time_windows'] = time_windows\n",
        "\n",
        "    \n",
        "    with open(r\"/content/euro-neurips-vrp-2022-quickstart/instances/qualification/ORTEC-VRPTW-ASYM-95d153e6-d1-n271-k19.txt\", 'r') as fp:\n",
        "        # lines to read\n",
        "        # To store lines\n",
        "        lines = []\n",
        "        for i, line in enumerate(fp):\n",
        "            # print(i)\n",
        "            if i >=555 and i <=826:\n",
        "                # print(i)\n",
        "                lines.append(line.strip())\n",
        "            elif i > 826:\n",
        "                # don't read after line 7 to save time\n",
        "                break\n",
        "    finalLines = []\n",
        "    for line in lines:\n",
        "      newline = line.split('\\t')\n",
        "      finalLines.append(newline)\n",
        "    demands = [list( map(int,i) ) for i in finalLines]\n",
        "    [i.pop(0) for i in demands]\n",
        "    demand_list = []\n",
        "    for demand in demands:\n",
        "      demand_list.append(demand[0])\n",
        "    data['demands'] = demand_list\n",
        "\n",
        "\n",
        "    with open(r\"/content/euro-neurips-vrp-2022-quickstart/instances/qualification/ORTEC-VRPTW-ASYM-95d153e6-d1-n271-k19.txt\", 'r') as fp:\n",
        "        # lines to read\n",
        "        # To store lines\n",
        "        lines = []\n",
        "        for i, line in enumerate(fp):\n",
        "            # print(i)\n",
        "            if i >=831 and i <=1102:\n",
        "                # print(i)\n",
        "                lines.append(line.strip())\n",
        "            elif i > 1102:\n",
        "                # don't read after line 7 to save time\n",
        "                break\n",
        "    finalLines = []\n",
        "    for line in lines:\n",
        "      newline = line.split('\\t')\n",
        "      finalLines.append(newline)\n",
        "    service_time = [list( map(int,i) ) for i in finalLines]\n",
        "    [i.pop(0) for i in service_time]\n",
        "    service_time_list = []\n",
        "    for serv_time in service_time:\n",
        "      service_time_list.append(serv_time[0])\n",
        "    data['service_time'] = service_time_list\n",
        "\n",
        "    data['num_vehicles'] = 19\n",
        "    return data"
      ]
    },
    {
      "cell_type": "code",
      "execution_count": 6,
      "metadata": {
        "id": "yWEbMd9UC5XA"
      },
      "outputs": [
        {
          "ename": "FileNotFoundError",
          "evalue": "[Errno 2] No such file or directory: '/content/euro-neurips-vrp-2022-quickstart/instances/qualification/ORTEC-VRPTW-ASYM-95d153e6-d1-n271-k19.txt'",
          "output_type": "error",
          "traceback": [
            "\u001b[1;31m---------------------------------------------------------------------------\u001b[0m",
            "\u001b[1;31mFileNotFoundError\u001b[0m                         Traceback (most recent call last)",
            "Cell \u001b[1;32mIn[6], line 1\u001b[0m\n\u001b[1;32m----> 1\u001b[0m data \u001b[39m=\u001b[39m create_Data_model()\n",
            "Cell \u001b[1;32mIn[5], line 3\u001b[0m, in \u001b[0;36mcreate_Data_model\u001b[1;34m()\u001b[0m\n\u001b[0;32m      1\u001b[0m \u001b[39mdef\u001b[39;00m \u001b[39mcreate_Data_model\u001b[39m():\n\u001b[0;32m      2\u001b[0m     data \u001b[39m=\u001b[39m {}\n\u001b[1;32m----> 3\u001b[0m     \u001b[39mwith\u001b[39;00m \u001b[39mopen\u001b[39;49m(\u001b[39mr\u001b[39;49m\u001b[39m\"\u001b[39;49m\u001b[39m/content/euro-neurips-vrp-2022-quickstart/instances/qualification/ORTEC-VRPTW-ASYM-95d153e6-d1-n271-k19.txt\u001b[39;49m\u001b[39m\"\u001b[39;49m, \u001b[39m'\u001b[39;49m\u001b[39mr\u001b[39;49m\u001b[39m'\u001b[39;49m) \u001b[39mas\u001b[39;00m fp:\n\u001b[0;32m      4\u001b[0m         \u001b[39m# lines to read\u001b[39;00m\n\u001b[0;32m      5\u001b[0m         line_numbers \u001b[39m=\u001b[39m [\u001b[39m9\u001b[39m, \u001b[39m476\u001b[39m]\n\u001b[0;32m      6\u001b[0m         \u001b[39m# To store lines\u001b[39;00m\n",
            "File \u001b[1;32m~\\AppData\\Local\\Packages\\PythonSoftwareFoundation.Python.3.10_qbz5n2kfra8p0\\LocalCache\\local-packages\\Python310\\site-packages\\IPython\\core\\interactiveshell.py:284\u001b[0m, in \u001b[0;36m_modified_open\u001b[1;34m(file, *args, **kwargs)\u001b[0m\n\u001b[0;32m    277\u001b[0m \u001b[39mif\u001b[39;00m file \u001b[39min\u001b[39;00m {\u001b[39m0\u001b[39m, \u001b[39m1\u001b[39m, \u001b[39m2\u001b[39m}:\n\u001b[0;32m    278\u001b[0m     \u001b[39mraise\u001b[39;00m \u001b[39mValueError\u001b[39;00m(\n\u001b[0;32m    279\u001b[0m         \u001b[39mf\u001b[39m\u001b[39m\"\u001b[39m\u001b[39mIPython won\u001b[39m\u001b[39m'\u001b[39m\u001b[39mt let you open fd=\u001b[39m\u001b[39m{\u001b[39;00mfile\u001b[39m}\u001b[39;00m\u001b[39m by default \u001b[39m\u001b[39m\"\u001b[39m\n\u001b[0;32m    280\u001b[0m         \u001b[39m\"\u001b[39m\u001b[39mas it is likely to crash IPython. If you know what you are doing, \u001b[39m\u001b[39m\"\u001b[39m\n\u001b[0;32m    281\u001b[0m         \u001b[39m\"\u001b[39m\u001b[39myou can use builtins\u001b[39m\u001b[39m'\u001b[39m\u001b[39m open.\u001b[39m\u001b[39m\"\u001b[39m\n\u001b[0;32m    282\u001b[0m     )\n\u001b[1;32m--> 284\u001b[0m \u001b[39mreturn\u001b[39;00m io_open(file, \u001b[39m*\u001b[39margs, \u001b[39m*\u001b[39m\u001b[39m*\u001b[39mkwargs)\n",
            "\u001b[1;31mFileNotFoundError\u001b[0m: [Errno 2] No such file or directory: '/content/euro-neurips-vrp-2022-quickstart/instances/qualification/ORTEC-VRPTW-ASYM-95d153e6-d1-n271-k19.txt'"
          ]
        }
      ],
      "source": [
        "data = create_Data_model()"
      ]
    },
    {
      "cell_type": "code",
      "execution_count": null,
      "metadata": {
        "colab": {
          "base_uri": "https://localhost:8080/"
        },
        "id": "ERho5b5jCAvH",
        "outputId": "be561556-1cf6-4ca0-c55a-735ba445a048"
      },
      "outputs": [
        {
          "name": "stdout",
          "output_type": "stream",
          "text": [
            "988\n"
          ]
        }
      ],
      "source": [
        "times = data['time_matrix']\n",
        "print(data['time_matrix'][271][270])"
      ]
    },
    {
      "cell_type": "code",
      "execution_count": null,
      "metadata": {
        "colab": {
          "base_uri": "https://localhost:8080/"
        },
        "id": "WoPyaWHKD7Qc",
        "outputId": "21a96dfe-dbed-4c1b-f986-b469928db343"
      },
      "outputs": [
        {
          "name": "stdout",
          "output_type": "stream",
          "text": [
            "[0, 4, 4, 3, 5, 4, 3, 3, 4, 6, 5, 7, 10, 5, 7, 5, 14, 10, 8, 3, 7, 4, 7, 6, 4, 4, 8, 4, 5, 6, 3, 12, 5, 3, 2, 6, 5, 5, 10, 4, 5, 6, 5, 4, 6, 3, 8, 6, 5, 4, 9, 4, 11, 7, 5, 3, 9, 9, 6, 6, 8, 12, 8, 6, 6, 9, 6, 8, 6, 7, 6, 6, 14, 4, 7, 8, 7, 4, 5, 9, 8, 10, 4, 4, 10, 8, 3, 10, 7, 9, 3, 10, 7, 5, 8, 4, 3, 3, 6, 5, 7, 4, 6, 8, 7, 9, 4, 15, 12, 9, 7, 6, 5, 5, 4, 3, 6, 6, 8, 8, 4, 7, 4, 8, 4, 4, 6, 10, 8, 5, 4, 8, 4, 10, 5, 10, 2, 8, 3, 9, 2, 4, 6, 6, 4, 2, 7, 5, 6, 9, 8, 8, 9, 5, 7, 2, 4, 5, 5, 13, 6, 6, 5, 6, 9, 3, 4, 13, 6, 4, 3, 9, 4, 5, 10, 5, 3, 4, 13, 6, 7, 4, 5, 6, 6, 8, 7, 6, 6, 9, 5, 8, 5, 6, 4, 6, 6, 4, 9, 8, 3, 5, 9, 5, 8, 3, 2, 7, 7, 6, 4, 4, 3, 20, 14, 4, 2, 5, 3, 4, 6, 5, 10, 4, 6, 8, 5, 4, 2, 5, 6, 6, 4, 5, 7, 5, 2, 7, 5, 6, 10, 6, 5, 3, 1, 4, 5, 3, 6, 7, 4, 7, 7, 5, 3, 7, 6, 8, 8, 4, 7, 9, 8, 7, 3, 17, 15, 7, 5, 9, 8, 5]\n",
            "272\n"
          ]
        }
      ],
      "source": [
        "demands = data['demands']\n",
        "print(demands)\n",
        "print(len(demands))"
      ]
    },
    {
      "cell_type": "code",
      "execution_count": null,
      "metadata": {
        "colab": {
          "base_uri": "https://localhost:8080/"
        },
        "id": "x0-joe7eFMiZ",
        "outputId": "cd68cd9a-6c21-462d-c5b2-2e214904f371"
      },
      "outputs": [
        {
          "name": "stdout",
          "output_type": "stream",
          "text": [
            "[0, 720, 420, 300, 600, 720, 420, 600, 600, 540, 420, 600, 660, 420, 720, 300, 960, 1140, 840, 720, 900, 420, 960, 780, 720, 480, 540, 600, 720, 600, 300, 900, 660, 360, 600, 540, 540, 420, 780, 420, 600, 360, 600, 660, 480, 480, 840, 600, 480, 840, 900, 360, 660, 780, 300, 540, 780, 840, 660, 720, 480, 660, 480, 660, 540, 600, 780, 900, 900, 600, 600, 600, 1080, 720, 600, 540, 480, 360, 420, 660, 600, 720, 360, 660, 660, 1080, 420, 780, 960, 720, 600, 900, 720, 600, 600, 600, 600, 420, 480, 720, 420, 360, 600, 540, 660, 1020, 420, 1260, 1140, 600, 600, 600, 660, 720, 360, 480, 660, 780, 1200, 480, 660, 660, 480, 1020, 480, 540, 480, 600, 720, 480, 540, 480, 540, 900, 600, 660, 300, 480, 600, 900, 240, 300, 840, 720, 360, 480, 600, 360, 780, 840, 600, 600, 900, 600, 780, 360, 780, 600, 480, 1380, 900, 420, 480, 780, 840, 600, 660, 720, 720, 660, 420, 540, 720, 660, 960, 660, 300, 660, 1020, 600, 1080, 420, 720, 360, 600, 900, 660, 600, 480, 660, 720, 780, 480, 720, 240, 660, 600, 600, 780, 600, 240, 540, 840, 540, 660, 540, 660, 420, 840, 780, 540, 360, 300, 1740, 780, 420, 240, 720, 720, 540, 540, 300, 1080, 660, 540, 480, 660, 240, 420, 480, 660, 600, 480, 420, 660, 600, 300, 780, 780, 540, 600, 420, 720, 420, 540, 240, 480, 720, 540, 780, 360, 420, 840, 300, 420, 600, 600, 660, 540, 360, 1080, 840, 780, 600, 480, 1200, 960, 480, 720, 1080, 480, 480]\n",
            "272\n"
          ]
        }
      ],
      "source": [
        "service_time = data['service_time']\n",
        "print(service_time)\n",
        "print(len(service_time))"
      ]
    },
    {
      "cell_type": "code",
      "execution_count": null,
      "metadata": {
        "id": "aouAM670BSa9"
      },
      "outputs": [],
      "source": [
        "capacity = 145"
      ]
    },
    {
      "cell_type": "code",
      "execution_count": null,
      "metadata": {
        "colab": {
          "base_uri": "https://localhost:8080/"
        },
        "id": "Vo4C-IGiBbC4",
        "outputId": "45792152-feed-4656-e873-33af4318350f"
      },
      "outputs": [
        {
          "data": {
            "text/plain": [
              "array([ 0,  1,  2,  3,  4,  5,  6,  7,  8,  9, 10, 11, 12, 13, 14, 15, 16,\n",
              "       17, 18])"
            ]
          },
          "execution_count": 11,
          "metadata": {},
          "output_type": "execute_result"
        }
      ],
      "source": [
        "import numpy as np\n",
        "vehicles = np.arange(0,19)\n",
        "vehicles"
      ]
    },
    {
      "cell_type": "code",
      "execution_count": null,
      "metadata": {
        "colab": {
          "base_uri": "https://localhost:8080/"
        },
        "id": "9TcT64OfGGmR",
        "outputId": "c66ef66d-2d96-4dfe-da0e-12d2aa8d8e7e"
      },
      "outputs": [
        {
          "name": "stdout",
          "output_type": "stream",
          "text": [
            "[(0, 45000), (12600, 19800), (7200, 30600), (5400, 12600), (9000, 16200), (12600, 18900), (23400, 30600), (23400, 30600), (12600, 19800), (9000, 16200), (5400, 12600), (16200, 23400), (7200, 30600), (23400, 30600), (19800, 27000), (19800, 27000), (9000, 16200), (7200, 29700), (19800, 27000), (5400, 11700), (7200, 29700), (23400, 30600), (19800, 27000), (12600, 19800), (9000, 16200), (7200, 30600), (12600, 19800), (7200, 30600), (23400, 30600), (7200, 29700), (16200, 23400), (19800, 27000), (12600, 19800), (9000, 16200), (7200, 29700), (23400, 30600), (5400, 12600), (7200, 30600), (16200, 23400), (19800, 27000), (5400, 11700), (9000, 16200), (5400, 12600), (12600, 19800), (19800, 27000), (5400, 12600), (7200, 30600), (12600, 19800), (16200, 23400), (7200, 30600), (12600, 18900), (7200, 30600), (5400, 12600), (19800, 27000), (12600, 19800), (18000, 40500), (16200, 23400), (23400, 30600), (23400, 30600), (7200, 30600), (5400, 12600), (23400, 30600), (7200, 30600), (9000, 16200), (16200, 23400), (23400, 30600), (23400, 30600), (23400, 30600), (9000, 16200), (23400, 30600), (19800, 27000), (19800, 27000), (23400, 30600), (7200, 29700), (5400, 12600), (12600, 19800), (5400, 12600), (19800, 27000), (19800, 27000), (5400, 12600), (16200, 23400), (5400, 12600), (12600, 19800), (16200, 23400), (16200, 23400), (23400, 30600), (23400, 30600), (12600, 19800), (19800, 27000), (23400, 30600), (12600, 19800), (5400, 12600), (23400, 30600), (23400, 30600), (12600, 19800), (12600, 19800), (23400, 30600), (19800, 27000), (23400, 30600), (12600, 19800), (7200, 30600), (12600, 19800), (5400, 12600), (9000, 16200), (16200, 23400), (23400, 30600), (7200, 30600), (19800, 27000), (5400, 12600), (12600, 19800), (5400, 12600), (12600, 19800), (23400, 29700), (5400, 12600), (12600, 19800), (9000, 16200), (9000, 16200), (16200, 23400), (12600, 19800), (16200, 23400), (9000, 16200), (12600, 19800), (16200, 23400), (16200, 22500), (12600, 19800), (16200, 23400), (7200, 30600), (16200, 23400), (16200, 22500), (5400, 12600), (23400, 30600), (7200, 30600), (9000, 16200), (12600, 19800), (9000, 16200), (9000, 16200), (23400, 30600), (12600, 19800), (7200, 30600), (19800, 26100), (12600, 19800), (16200, 23400), (9000, 16200), (23400, 30600), (12600, 19800), (16200, 23400), (7200, 30600), (12600, 19800), (9000, 16200), (5400, 12600), (19800, 27000), (9000, 16200), (7200, 30600), (12600, 19800), (23400, 30600), (16200, 25200), (5400, 12600), (12600, 19800), (23400, 30600), (5400, 12600), (19800, 26100), (16200, 23400), (12600, 19800), (7200, 30600), (5400, 12600), (5400, 11700), (16200, 23400), (16200, 23400), (16200, 23400), (7200, 30600), (5400, 12600), (19800, 27000), (9000, 16200), (7200, 30600), (7200, 30600), (9000, 16200), (5400, 12600), (16200, 23400), (16200, 25200), (16200, 23400), (7200, 30600), (12600, 19800), (19800, 27000), (5400, 12600), (23400, 30600), (7200, 30600), (9000, 16200), (19800, 27000), (5400, 12600), (12600, 19800), (16200, 23400), (9000, 16200), (16200, 23400), (23400, 30600), (23400, 30600), (23400, 30600), (16200, 23400), (12600, 18900), (23400, 30600), (12600, 19800), (7200, 30600), (19800, 27000), (7200, 30600), (16200, 23400), (5400, 12600), (19800, 27000), (12600, 19800), (19800, 27000), (19800, 26100), (19800, 27000), (12600, 18900), (23400, 30600), (9000, 16200), (18000, 41400), (9000, 16200), (5400, 12600), (9000, 16200), (19800, 27000), (16200, 22500), (23400, 30600), (16200, 23400), (12600, 19800), (9000, 16200), (23400, 30600), (18000, 41400), (9000, 16200), (5400, 12600), (23400, 30600), (23400, 30600), (12600, 19800), (16200, 23400), (12600, 19800), (19800, 27000), (19800, 27000), (23400, 30600), (12600, 19800), (7200, 30600), (16200, 23400), (7200, 29700), (9000, 16200), (16200, 23400), (7200, 30600), (7200, 30600), (12600, 19800), (19800, 27000), (9000, 16200), (12600, 19800), (5400, 12600), (12600, 19800), (7200, 30600), (23400, 30600), (23400, 30600), (16200, 23400), (12600, 19800), (7200, 30600), (16200, 23400), (23400, 30600), (5400, 12600), (16200, 23400), (23400, 30600), (5400, 12600), (5400, 12600), (5400, 12600), (16200, 23400), (19800, 26100), (12600, 19800), (19800, 27000), (23400, 30600), (7200, 30600), (19800, 27000), (9000, 16200), (5400, 12600)]\n"
          ]
        }
      ],
      "source": [
        "time_windows = data['time_windows']\n",
        "print(time_windows)"
      ]
    },
    {
      "cell_type": "code",
      "execution_count": null,
      "metadata": {
        "id": "R-oyDAVuB2YX"
      },
      "outputs": [],
      "source": [
        "nodes = []\n",
        "for i in range(272):\n",
        "  index = i\n",
        "  demand = demands[i]\n",
        "  serv_time = service_time[i]\n",
        "  time_window = time_windows[i]\n",
        "  station = Node(index, demand, serv_time, time_window)\n",
        "  nodes.append(station)"
      ]
    },
    {
      "cell_type": "code",
      "execution_count": null,
      "metadata": {
        "colab": {
          "base_uri": "https://localhost:8080/"
        },
        "id": "xJUAq9fxGyy4",
        "outputId": "c7e021fa-4733-4621-d688-6ee4f4cd7a12"
      },
      "outputs": [
        {
          "name": "stdout",
          "output_type": "stream",
          "text": [
            "Looking in indexes: https://pypi.org/simple, https://us-python.pkg.dev/colab-wheels/public/simple/\n",
            "Requirement already satisfied: docplex in /usr/local/lib/python3.9/dist-packages (2.25.236)\n",
            "Requirement already satisfied: six in /usr/local/lib/python3.9/dist-packages (from docplex) (1.16.0)\n"
          ]
        }
      ],
      "source": [
        "!pip install cplex\n",
        "!pip install docplex"
      ]
    },
    {
      "cell_type": "code",
      "execution_count": null,
      "metadata": {
        "id": "0-LhTts0_4B8"
      },
      "outputs": [],
      "source": [
        "from docplex.mp.model import Model\n",
        "\n",
        "def build_VRPTW_problem(capacity, nodes, times, vehicles,**kwargs):\n",
        "    \n",
        "    #Parameters\n",
        "    customers = [cstmrs for cstmrs in nodes if cstmrs.index != 0] \n",
        "    #Big M\n",
        "    bigM = 1000\n",
        "\n",
        "    #Model declaration\n",
        "    m = Model(name = 'VRPTW', **kwargs)\n",
        "\n",
        "    #----- Variables -----\n",
        "    #Arc covered by vehicle\n",
        "    m.x_var = m.binary_var_cube(vehicles,nodes,nodes, name= 'route')\n",
        "    #Start time for the service of a customer\n",
        "    m.s_var = m.continuous_var_matrix(vehicles, nodes, name = 'service_time')\n",
        "\n",
        "    #----- Constraints -----\n",
        "    print(\"Constraints\")\n",
        "    #Customer satisfaction\n",
        "    m.covering_cts = []\n",
        "    for i in customers: \n",
        "        cust_satisf_ct = m.sum(\n",
        "            m.x_var[u,i,j] for j in nodes for u in vehicles)>= 1\n",
        "        cust_satisf_ct.name = 'customer_satisf_{0!s}'.format(i.index)\n",
        "        m.covering_cts.append(cust_satisf_ct)\n",
        "\n",
        "    m.add_constraints(m.covering_cts)\n",
        "    print(\"Route structure \")\n",
        "    #Route structure\n",
        "    m.flow_cts = []\n",
        "    for i in nodes:\n",
        "        for u in vehicles:\n",
        "            flow_ct = (m.sum(m.x_var[u,i,j] for j in nodes) - \n",
        "                m.sum(m.x_var[u,j,i] for j in nodes)) == 0\n",
        "            flow_ct.name = 'flow_constraint_{0!s}_{1!s}'.format(i.index,u)\n",
        "            m.flow_cts.append(flow_ct)\n",
        "\n",
        "    for u in vehicles: \n",
        "        flow_ct = m.sum(m.x_var[u,nodes[0],i] for i in nodes) <= 1\n",
        "        flow_ct.name = 'flow_constraint_{0!s}_{1!s}_origin'.format(nodes[0].index,u)\n",
        "        m.flow_cts.append(flow_ct)\n",
        "\n",
        "    m.add_constraints(m.flow_cts)\n",
        "    print(\"vehichle Capacity\")\n",
        "    #Vehicle capacity\n",
        "    m.capacity_cts = []\n",
        "    for u in vehicles:\n",
        "        capacity_ct = m.sum(nodes[i].demand * m.x_var[u,i,j] for i in nodes for j in nodes) <= capacity\n",
        "        capacity_ct.name = 'capacity_vehicle{0!s}'.format(u)\n",
        "        m.capacity_cts.append(capacity_ct)\n",
        "    \n",
        "    m.add_constraints(m.capacity_cts)\n",
        "\n",
        "    print(\"Time Windows\")\n",
        "    #Time windows\n",
        "    m.time_window_cts = []\n",
        "    for i in nodes:\n",
        "        for j in customers: \n",
        "            for u in vehicles:\n",
        "                time_window_ct = m.s_var[u,i] + i.serv_time + times[i.index][j.index] - m.s_var[u,j] + bigM*m.x_var[u,i,j] <= bigM\n",
        "                time_window_ct.name = 'time_window_{0!s}_{1!s}_{2!s}'.format(u,i.index,j.index)\n",
        "                m.time_window_cts.append(time_window_ct)\n",
        "    \n",
        "    print(\"Loop - 2\")\n",
        "    for i in customers:\n",
        "        for u in vehicles: \n",
        "            time_window_ct = m.s_var[u,i] + i.serv_time + times[i][0] - nodes[0].time_window[1] + bigM*m.x_var[u,i,nodes[0]] <= bigM\n",
        "            time_window_ct.name = 'time_window_{0!s}_{1!s}_{2!s}_arrival'.format(u,i.index,nodes[0].index)\n",
        "            m.time_window_cts.append(time_window_ct)\n",
        "        \n",
        "    print(\"Loop-3\")\n",
        "    for i in nodes:\n",
        "        for u in vehicles:\n",
        "            time_window_ct_lb = i.time_window[0] <= m.s_var[u,i]\n",
        "            time_window_ct_lb.name = 'time_window_lb_{0!s}'.format(i.index)\n",
        "            time_window_ct_ub = i.time_window[1] >= m.s_var[u,i]\n",
        "            time_window_ct_ub.name = 'time_window_ub_{0!s}'.format(i.index)\n",
        "            m.time_window_cts.append(time_window_ct_lb)\n",
        "            m.time_window_cts.append(time_window_ct_ub)\n",
        "\n",
        "    m.add_constraints(m.time_window_cts)\n",
        "\n",
        "    #----- Objective Function -----\n",
        "    #Minimize the total cost\n",
        "    m.total_cost = m.sum(times[i][j]*m.x_var[u,i,j] for i in nodes for j in nodes for u in vehicles)\n",
        "    m.minimize(m.total_cost)\n",
        "\n",
        "    return m\n"
      ]
    },
    {
      "cell_type": "code",
      "execution_count": null,
      "metadata": {
        "colab": {
          "base_uri": "https://localhost:8080/"
        },
        "id": "wZ3QgbfUG_Gg",
        "outputId": "5f33b095-183e-4d39-cf0e-eae5939e5717"
      },
      "outputs": [
        {
          "name": "stdout",
          "output_type": "stream",
          "text": [
            "Constraints\n",
            "Route structure \n",
            "vehichle Capacity\n",
            "Time Windows\n",
            "Loop - 2\n",
            "Loop-3\n"
          ]
        }
      ],
      "source": [
        "mod = build_VRPTW_problem(capacity, nodes, times, vehicles)"
      ]
    },
    {
      "cell_type": "code",
      "execution_count": 2,
      "metadata": {
        "id": "ZPi5KqD4QIdX"
      },
      "outputs": [
        {
          "ename": "NameError",
          "evalue": "name 'mod' is not defined",
          "output_type": "error",
          "traceback": [
            "\u001b[1;31m---------------------------------------------------------------------------\u001b[0m",
            "\u001b[1;31mNameError\u001b[0m                                 Traceback (most recent call last)",
            "Cell \u001b[1;32mIn[2], line 1\u001b[0m\n\u001b[1;32m----> 1\u001b[0m sol \u001b[39m=\u001b[39m mod\u001b[39m.\u001b[39msolve()\n",
            "\u001b[1;31mNameError\u001b[0m: name 'mod' is not defined"
          ]
        }
      ],
      "source": [
        "sol = mod.solve()"
      ]
    }
  ],
  "metadata": {
    "accelerator": "GPU",
    "colab": {
      "provenance": []
    },
    "gpuClass": "standard",
    "kernelspec": {
      "display_name": "Python 3",
      "language": "python",
      "name": "python3"
    },
    "language_info": {
      "codemirror_mode": {
        "name": "ipython",
        "version": 3
      },
      "file_extension": ".py",
      "mimetype": "text/x-python",
      "name": "python",
      "nbconvert_exporter": "python",
      "pygments_lexer": "ipython3",
      "version": "3.10.11"
    }
  },
  "nbformat": 4,
  "nbformat_minor": 0
}
