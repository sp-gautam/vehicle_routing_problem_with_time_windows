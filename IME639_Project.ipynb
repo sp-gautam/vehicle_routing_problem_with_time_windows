{
  "nbformat": 4,
  "nbformat_minor": 0,
  "metadata": {
    "colab": {
      "provenance": []
    },
    "kernelspec": {
      "name": "python3",
      "display_name": "Python 3"
    },
    "language_info": {
      "name": "python"
    }
  },
  "cells": [
    {
      "cell_type": "code",
      "source": [
        "!pip install ortools"
      ],
      "metadata": {
        "colab": {
          "base_uri": "https://localhost:8080/"
        },
        "id": "ue-AOhhKIFDA",
        "outputId": "c2c5b51c-3058-4197-c3d1-4d4c8a037946"
      },
      "execution_count": 2,
      "outputs": [
        {
          "output_type": "stream",
          "name": "stdout",
          "text": [
            "Looking in indexes: https://pypi.org/simple, https://us-python.pkg.dev/colab-wheels/public/simple/\n",
            "Collecting ortools\n",
            "  Downloading ortools-9.6.2534-cp39-cp39-manylinux_2_17_x86_64.manylinux2014_x86_64.whl (16.4 MB)\n",
            "\u001b[2K     \u001b[90m━━━━━━━━━━━━━━━━━━━━━━━━━━━━━━━━━━━━━━━━\u001b[0m \u001b[32m16.4/16.4 MB\u001b[0m \u001b[31m59.6 MB/s\u001b[0m eta \u001b[36m0:00:00\u001b[0m\n",
            "\u001b[?25hRequirement already satisfied: numpy>=1.13.3 in /usr/local/lib/python3.9/dist-packages (from ortools) (1.22.4)\n",
            "Collecting protobuf>=4.21.12\n",
            "  Downloading protobuf-4.22.3-cp37-abi3-manylinux2014_x86_64.whl (302 kB)\n",
            "\u001b[2K     \u001b[90m━━━━━━━━━━━━━━━━━━━━━━━━━━━━━━━━━━━━━━\u001b[0m \u001b[32m302.4/302.4 kB\u001b[0m \u001b[31m27.3 MB/s\u001b[0m eta \u001b[36m0:00:00\u001b[0m\n",
            "\u001b[?25hRequirement already satisfied: scipy>=1.10.0 in /usr/local/lib/python3.9/dist-packages (from ortools) (1.10.1)\n",
            "Requirement already satisfied: absl-py>=0.13 in /usr/local/lib/python3.9/dist-packages (from ortools) (1.4.0)\n",
            "Installing collected packages: protobuf, ortools\n",
            "  Attempting uninstall: protobuf\n",
            "    Found existing installation: protobuf 3.20.3\n",
            "    Uninstalling protobuf-3.20.3:\n",
            "      Successfully uninstalled protobuf-3.20.3\n",
            "Successfully installed ortools-9.6.2534 protobuf-4.22.3\n"
          ]
        }
      ]
    },
    {
      "cell_type": "code",
      "source": [
        "!git clone https://github.com/ortec/euro-neurips-vrp-2022-quickstart.git"
      ],
      "metadata": {
        "colab": {
          "base_uri": "https://localhost:8080/"
        },
        "id": "SvWyM0pNJuCO",
        "outputId": "996a8275-b7e5-4134-ee93-91d16e4392ab"
      },
      "execution_count": 13,
      "outputs": [
        {
          "output_type": "stream",
          "name": "stdout",
          "text": [
            "Cloning into 'euro-neurips-vrp-2022-quickstart'...\n",
            "remote: Enumerating objects: 3454, done.\u001b[K\n",
            "remote: Counting objects: 100% (3129/3129), done.\u001b[K\n",
            "remote: Compressing objects: 100% (2144/2144), done.\u001b[K\n",
            "remote: Total 3454 (delta 1003), reused 3081 (delta 979), pack-reused 325\u001b[K\n",
            "Receiving objects: 100% (3454/3454), 101.56 MiB | 19.61 MiB/s, done.\n",
            "Resolving deltas: 100% (1027/1027), done.\n",
            "Updating files: 100% (3553/3553), done.\n"
          ]
        }
      ]
    },
    {
      "cell_type": "code",
      "source": [
        "data_dir = \"/content/euro-neurips-vrp-2022-quickstart/instances/qualification/ORTEC-VRPTW-ASYM-40b21c81-d1-n467-k70.txt\""
      ],
      "metadata": {
        "id": "R9Yl7Gk-LNy0"
      },
      "execution_count": 19,
      "outputs": []
    },
    {
      "cell_type": "code",
      "source": [
        "def create_Data_model():\n",
        "    data = {}\n",
        "    with open(r\"/content/euro-neurips-vrp-2022-quickstart/instances/qualification/ORTEC-VRPTW-ASYM-40b21c81-d1-n467-k70.txt\", 'r') as fp:\n",
        "        # lines to read\n",
        "        line_numbers = [9, 476]\n",
        "        # To store lines\n",
        "        lines = []\n",
        "        for i, line in enumerate(fp):\n",
        "            # print(i)\n",
        "            if i >=9 and i <=476:\n",
        "                # print(i)\n",
        "                lines.append(line.strip())\n",
        "            elif i > 476:\n",
        "                # don't read after line 7 to save time\n",
        "                break\n",
        "    finalLines = []\n",
        "    for line in lines:\n",
        "      newline = line.split('\\t')\n",
        "      finalLines.append(newline)\n",
        "    time_matrix = [list( map(int,i) ) for i in finalLines]\n",
        "    data['time_matrix'] = time_matrix\n",
        "\n",
        "\n",
        "    with open(r\"/content/euro-neurips-vrp-2022-quickstart/instances/qualification/ORTEC-VRPTW-ASYM-40b21c81-d1-n467-k70.txt\", 'r') as fp:\n",
        "        # lines to read\n",
        "        # To store lines\n",
        "        lines = []\n",
        "        for i, line in enumerate(fp):\n",
        "            # print(i)\n",
        "            if i >=1888 and i <=2355:\n",
        "                # print(i)\n",
        "                lines.append(line.strip())\n",
        "            elif i > 2355:\n",
        "                # don't read after line 7 to save time\n",
        "                break\n",
        "    finalLines = []\n",
        "    for line in lines:\n",
        "      newline = line.split('\\t')\n",
        "      finalLines.append(newline)\n",
        "    time_windows = [list( map(int,i) ) for i in finalLines]\n",
        "    [i.pop(0) for i in time_windows]\n",
        "    time_windows = [tuple(x) for x in time_windows]\n",
        "    data['time_windows'] = time_windows\n",
        "\n",
        "\n",
        "    with open(r\"/content/euro-neurips-vrp-2022-quickstart/instances/qualification/ORTEC-VRPTW-ASYM-40b21c81-d1-n467-k70.txt\", 'r') as fp:\n",
        "        # lines to read\n",
        "        # To store lines\n",
        "        lines = []\n",
        "        for i, line in enumerate(fp):\n",
        "            # print(i)\n",
        "            if i >=947 and i <=1414:\n",
        "                # print(i)\n",
        "                lines.append(line.strip())\n",
        "            elif i > 1414:\n",
        "                # don't read after line 7 to save time\n",
        "                break\n",
        "    finalLines = []\n",
        "    for line in lines:\n",
        "      newline = line.split('\\t')\n",
        "      finalLines.append(newline)\n",
        "    demands = [list( map(int,i) ) for i in finalLines]\n",
        "    [i.pop(0) for i in demands]\n",
        "\n",
        "    data['num_vehicles'] = 70\n",
        "    data['depot'] = 0\n",
        "    return data"
      ],
      "metadata": {
        "id": "UX1ynWML4PoL"
      },
      "execution_count": 120,
      "outputs": []
    },
    {
      "cell_type": "code",
      "source": [
        "from ortools.sat.python import cp_model"
      ],
      "metadata": {
        "id": "At65XNBvIW59"
      },
      "execution_count": 3,
      "outputs": []
    },
    {
      "cell_type": "code",
      "source": [
        "\"\"\"Vehicles Routing Problem (VRP) with Time Windows.\"\"\"\n",
        "\n",
        "from ortools.constraint_solver import routing_enums_pb2\n",
        "from ortools.constraint_solver import pywrapcp"
      ],
      "metadata": {
        "id": "x41zpEgjIwYt"
      },
      "execution_count": 5,
      "outputs": []
    },
    {
      "cell_type": "code",
      "source": [
        "def create_data_model():\n",
        "    \"\"\"Stores the data for the problem.\"\"\"\n",
        "    data = {}\n",
        "    data['time_matrix'] = [\n",
        "        [0, 6, 9, 8, 7, 3, 6, 2, 3, 2, 6, 6, 4, 4, 5, 9, 7],\n",
        "        [6, 0, 8, 3, 2, 6, 8, 4, 8, 8, 13, 7, 5, 8, 12, 10, 14],\n",
        "        [9, 8, 0, 11, 10, 6, 3, 9, 5, 8, 4, 15, 14, 13, 9, 18, 9],\n",
        "        [8, 3, 11, 0, 1, 7, 10, 6, 10, 10, 14, 6, 7, 9, 14, 6, 16],\n",
        "        [7, 2, 10, 1, 0, 6, 9, 4, 8, 9, 13, 4, 6, 8, 12, 8, 14],\n",
        "        [3, 6, 6, 7, 6, 0, 2, 3, 2, 2, 7, 9, 7, 7, 6, 12, 8],\n",
        "        [6, 8, 3, 10, 9, 2, 0, 6, 2, 5, 4, 12, 10, 10, 6, 15, 5],\n",
        "        [2, 4, 9, 6, 4, 3, 6, 0, 4, 4, 8, 5, 4, 3, 7, 8, 10],\n",
        "        [3, 8, 5, 10, 8, 2, 2, 4, 0, 3, 4, 9, 8, 7, 3, 13, 6],\n",
        "        [2, 8, 8, 10, 9, 2, 5, 4, 3, 0, 4, 6, 5, 4, 3, 9, 5],\n",
        "        [6, 13, 4, 14, 13, 7, 4, 8, 4, 4, 0, 10, 9, 8, 4, 13, 4],\n",
        "        [6, 7, 15, 6, 4, 9, 12, 5, 9, 6, 10, 0, 1, 3, 7, 3, 10],\n",
        "        [4, 5, 14, 7, 6, 7, 10, 4, 8, 5, 9, 1, 0, 2, 6, 4, 8],\n",
        "        [4, 8, 13, 9, 8, 7, 10, 3, 7, 4, 8, 3, 2, 0, 4, 5, 6],\n",
        "        [5, 12, 9, 14, 12, 6, 6, 7, 3, 3, 4, 7, 6, 4, 0, 9, 2],\n",
        "        [9, 10, 18, 6, 8, 12, 15, 8, 13, 9, 13, 3, 4, 5, 9, 0, 9],\n",
        "        [7, 14, 9, 16, 14, 8, 5, 10, 6, 5, 4, 10, 8, 6, 2, 9, 0],\n",
        "    ]\n",
        "    data['time_windows'] = [\n",
        "        (0, 5),  # depot\n",
        "        (7, 12),  # 1\n",
        "        (10, 15),  # 2\n",
        "        (16, 18),  # 3\n",
        "        (10, 13),  # 4\n",
        "        (0, 5),  # 5\n",
        "        (5, 10),  # 6\n",
        "        (0, 4),  # 7\n",
        "        (5, 10),  # 8\n",
        "        (0, 3),  # 9\n",
        "        (10, 16),  # 10\n",
        "        (10, 15),  # 11\n",
        "        (0, 5),  # 12\n",
        "        (5, 10),  # 13\n",
        "        (7, 8),  # 14\n",
        "        (10, 15),  # 15\n",
        "        (11, 15),  # 16\n",
        "    ]\n",
        "    data['num_vehicles'] = 4\n",
        "    data['depot'] = 0\n",
        "    data['demands'] = [0, 1, 1, 2, 4, 2, 4, 8, 8, 1, 2, 1, 2, 4, 4, 8, 8]\n",
        "    data['vehicle_capacities'] = [15, 15, 15, 15]\n",
        "    return data"
      ],
      "metadata": {
        "id": "_QTYU_U8I8nq"
      },
      "execution_count": 6,
      "outputs": []
    },
    {
      "cell_type": "code",
      "source": [
        "def print_solution(data, manager, routing, solution):\n",
        "    \"\"\"Prints solution on console.\"\"\"\n",
        "    print(f'Objective: {solution.ObjectiveValue()}')\n",
        "    time_dimension = routing.GetDimensionOrDie('Time')\n",
        "    total_time = 0\n",
        "    for vehicle_id in range(data['num_vehicles']):\n",
        "        index = routing.Start(vehicle_id)\n",
        "        plan_output = 'Route for vehicle {}:\\n'.format(vehicle_id)\n",
        "        while not routing.IsEnd(index):\n",
        "            time_var = time_dimension.CumulVar(index)\n",
        "            plan_output += '{0} Time({1},{2}) -> '.format(\n",
        "                manager.IndexToNode(index), solution.Min(time_var),\n",
        "                solution.Max(time_var))\n",
        "            index = solution.Value(routing.NextVar(index))\n",
        "        time_var = time_dimension.CumulVar(index)\n",
        "        plan_output += '{0} Time({1},{2})\\n'.format(manager.IndexToNode(index),\n",
        "                                                    solution.Min(time_var),\n",
        "                                                    solution.Max(time_var))\n",
        "        plan_output += 'Time of the route: {}min\\n'.format(\n",
        "            solution.Min(time_var))\n",
        "        print(plan_output)\n",
        "        total_time += solution.Min(time_var)\n",
        "    print('Total time of all routes: {}min'.format(total_time))"
      ],
      "metadata": {
        "id": "CGvxSPyZJGPB"
      },
      "execution_count": 8,
      "outputs": []
    },
    {
      "cell_type": "code",
      "source": [
        "def main():\n",
        "    \"\"\"Solve the VRP with time windows.\"\"\"\n",
        "    # Instantiate the data problem.\n",
        "    data = create_data_model()\n",
        "    print(data)\n",
        "    print(len(data['time_windows']))\n",
        "    print(len(data['time_matrix'][0]))\n",
        "    print(len(data['time_matrix']))\n",
        "    print((data['time_windows'][0][1]))\n",
        "    # Create the routing index manager.\n",
        "    manager = pywrapcp.RoutingIndexManager(len(data['time_matrix']),\n",
        "                                           data['num_vehicles'], data['depot'])\n",
        "\n",
        "    # Create Routing Model.\n",
        "    routing = pywrapcp.RoutingModel(manager)\n",
        "\n",
        "\n",
        "    # Create and register a transit callback.\n",
        "    def time_callback(from_index, to_index):\n",
        "        \"\"\"Returns the travel time between the two nodes.\"\"\"\n",
        "        # Convert from routing variable Index to time matrix NodeIndex.\n",
        "        from_node = manager.IndexToNode(from_index)\n",
        "        to_node = manager.IndexToNode(to_index)\n",
        "        return data['time_matrix'][from_node][to_node]\n",
        "\n",
        "    transit_callback_index = routing.RegisterTransitCallback(time_callback)\n",
        "\n",
        "    # Define cost of each arc.\n",
        "    routing.SetArcCostEvaluatorOfAllVehicles(transit_callback_index)\n",
        "\n",
        "    # Add Time Windows constraint.\n",
        "    time = 'Time'\n",
        "    routing.AddDimension(\n",
        "        transit_callback_index,\n",
        "        30,  # allow waiting time\n",
        "        30,  # maximum time per vehicle\n",
        "        False,  # Don't force start cumul to zero.\n",
        "        time)\n",
        "    time_dimension = routing.GetDimensionOrDie(time)\n",
        "    # Add time window constraints for each location except depot.\n",
        "    for location_idx, time_window in enumerate(data['time_windows']):\n",
        "        if location_idx == data['depot']:\n",
        "            continue\n",
        "        index = manager.NodeToIndex(location_idx)\n",
        "        time_dimension.CumulVar(index).SetRange(time_window[0], time_window[1])\n",
        "    # Add time window constraints for each vehicle start node.\n",
        "    depot_idx = data['depot']\n",
        "    for vehicle_id in range(data['num_vehicles']):\n",
        "        index = routing.Start(vehicle_id)\n",
        "        time_dimension.CumulVar(index).SetRange(\n",
        "            data['time_windows'][depot_idx][0],\n",
        "            data['time_windows'][depot_idx][1])\n",
        "\n",
        "    # Instantiate route start and end times to produce feasible times.\n",
        "    for i in range(data['num_vehicles']):\n",
        "        routing.AddVariableMinimizedByFinalizer(\n",
        "            time_dimension.CumulVar(routing.Start(i)))\n",
        "        routing.AddVariableMinimizedByFinalizer(\n",
        "            time_dimension.CumulVar(routing.End(i)))\n",
        "\n",
        "    # Setting first solution heuristic.\n",
        "    search_parameters = pywrapcp.DefaultRoutingSearchParameters()\n",
        "    search_parameters.first_solution_strategy = (\n",
        "        routing_enums_pb2.FirstSolutionStrategy.PATH_CHEAPEST_ARC)\n",
        "\n",
        "    # Solve the problem.\n",
        "    solution = routing.SolveWithParameters(search_parameters)\n",
        "\n",
        "    # Print solution on console.\n",
        "    if solution:\n",
        "        print_solution(data, manager, routing, solution)\n",
        "\n"
      ],
      "metadata": {
        "id": "9Jn-hsDKJkBw"
      },
      "execution_count": 127,
      "outputs": []
    },
    {
      "cell_type": "code",
      "source": [
        "if __name__ == '__main__':\n",
        "    main()"
      ],
      "metadata": {
        "colab": {
          "base_uri": "https://localhost:8080/"
        },
        "id": "8zpnr3m8Jpkk",
        "outputId": "78cc453f-edbb-44bd-d873-a02d5b20f21b"
      },
      "execution_count": 128,
      "outputs": [
        {
          "output_type": "stream",
          "name": "stdout",
          "text": [
            "{'time_matrix': [[0, 6, 9, 8, 7, 3, 6, 2, 3, 2, 6, 6, 4, 4, 5, 9, 7], [6, 0, 8, 3, 2, 6, 8, 4, 8, 8, 13, 7, 5, 8, 12, 10, 14], [9, 8, 0, 11, 10, 6, 3, 9, 5, 8, 4, 15, 14, 13, 9, 18, 9], [8, 3, 11, 0, 1, 7, 10, 6, 10, 10, 14, 6, 7, 9, 14, 6, 16], [7, 2, 10, 1, 0, 6, 9, 4, 8, 9, 13, 4, 6, 8, 12, 8, 14], [3, 6, 6, 7, 6, 0, 2, 3, 2, 2, 7, 9, 7, 7, 6, 12, 8], [6, 8, 3, 10, 9, 2, 0, 6, 2, 5, 4, 12, 10, 10, 6, 15, 5], [2, 4, 9, 6, 4, 3, 6, 0, 4, 4, 8, 5, 4, 3, 7, 8, 10], [3, 8, 5, 10, 8, 2, 2, 4, 0, 3, 4, 9, 8, 7, 3, 13, 6], [2, 8, 8, 10, 9, 2, 5, 4, 3, 0, 4, 6, 5, 4, 3, 9, 5], [6, 13, 4, 14, 13, 7, 4, 8, 4, 4, 0, 10, 9, 8, 4, 13, 4], [6, 7, 15, 6, 4, 9, 12, 5, 9, 6, 10, 0, 1, 3, 7, 3, 10], [4, 5, 14, 7, 6, 7, 10, 4, 8, 5, 9, 1, 0, 2, 6, 4, 8], [4, 8, 13, 9, 8, 7, 10, 3, 7, 4, 8, 3, 2, 0, 4, 5, 6], [5, 12, 9, 14, 12, 6, 6, 7, 3, 3, 4, 7, 6, 4, 0, 9, 2], [9, 10, 18, 6, 8, 12, 15, 8, 13, 9, 13, 3, 4, 5, 9, 0, 9], [7, 14, 9, 16, 14, 8, 5, 10, 6, 5, 4, 10, 8, 6, 2, 9, 0]], 'time_windows': [(0, 5), (7, 12), (10, 15), (16, 18), (10, 13), (0, 5), (5, 10), (0, 4), (5, 10), (0, 3), (10, 16), (10, 15), (0, 5), (5, 10), (7, 8), (10, 15), (11, 15)], 'num_vehicles': 4, 'depot': 0}\n",
            "17\n",
            "17\n",
            "17\n",
            "5\n",
            "Objective: 71\n",
            "Route for vehicle 0:\n",
            "0 Time(0,0) -> 9 Time(2,3) -> 14 Time(7,8) -> 16 Time(11,11) -> 0 Time(18,18)\n",
            "Time of the route: 18min\n",
            "\n",
            "Route for vehicle 1:\n",
            "0 Time(0,0) -> 7 Time(2,4) -> 1 Time(7,11) -> 4 Time(10,13) -> 3 Time(16,16) -> 0 Time(24,24)\n",
            "Time of the route: 24min\n",
            "\n",
            "Route for vehicle 2:\n",
            "0 Time(0,0) -> 12 Time(4,4) -> 13 Time(6,6) -> 15 Time(11,11) -> 11 Time(14,14) -> 0 Time(20,20)\n",
            "Time of the route: 20min\n",
            "\n",
            "Route for vehicle 3:\n",
            "0 Time(0,0) -> 5 Time(3,3) -> 8 Time(5,5) -> 6 Time(7,7) -> 2 Time(10,10) -> 10 Time(14,14) -> 0 Time(20,20)\n",
            "Time of the route: 20min\n",
            "\n",
            "Total time of all routes: 82min\n"
          ]
        }
      ]
    },
    {
      "cell_type": "code",
      "source": [],
      "metadata": {
        "id": "yvb_W9N3H9_s"
      },
      "execution_count": null,
      "outputs": []
    }
  ]
}